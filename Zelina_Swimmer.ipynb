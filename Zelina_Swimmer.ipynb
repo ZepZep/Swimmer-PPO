{
 "cells": [
  {
   "cell_type": "markdown",
   "id": "a76439ef-fe81-4791-8deb-9b6565670bee",
   "metadata": {},
   "source": [
    "# ATCI Practical: Swimmer PPO\n",
    "autohor: Petr Zelina\n",
    "\n",
    "I chose to use RL to find a good policy for the MuJoCo [Swimmer](https://www.gymlibrary.ml/environments/mujoco/swimmer/) environment. In it a worm learns to swim in a viscous liquid using its two joints.\n",
    "\n",
    "At first I tried to solve it with DDQN, but because the action space is continuous, I had to discretize the actions. The algorithm learned only to \"jump\" (reward ~40) but was not able to learn a continuous slither (reward ~300), as one would expect. Because of this I chose to use the PPO algorithm, as it is able to use continuous actions.\n",
    "\n",
    "PPO based on implementation by Colin Skow [GitHub](https://github.com/colinskow/move37)."
   ]
  },
  {
   "cell_type": "code",
   "execution_count": 18,
   "id": "85d55b49-3fbe-4178-91d1-11a829cfaef0",
   "metadata": {},
   "outputs": [],
   "source": [
    "import math\n",
    "import os\n",
    "import random\n",
    "import gym\n",
    "import numpy as np\n",
    "from tqdm.auto import tqdm, trange\n",
    "\n",
    "import torch\n",
    "import torch.nn as nn\n",
    "import torch.optim as optim\n",
    "from torch.distributions import Normal\n",
    "from torch.utils.tensorboard import SummaryWriter\n",
    "\n",
    "from IPython.display import clear_output, HTML, Video\n",
    "import matplotlib.pyplot as plt\n",
    "%matplotlib inline"
   ]
  },
  {
   "cell_type": "markdown",
   "id": "aa140c5f-890d-436e-aab0-dee6ebcb7dd6",
   "metadata": {},
   "source": [
    "## Multi-environment\n",
    "This class is udsed for interacting with multiple environments at the same time\n",
    "\n",
    "I tried to use the `desync` function to desynchronise the starting states for the training (use it instead of the initial `reset`), but it lead to worse performance."
   ]
  },
  {
   "cell_type": "code",
   "execution_count": 2,
   "id": "382ca76b-dca3-4c43-b40d-be17a54a66dd",
   "metadata": {},
   "outputs": [],
   "source": [
    "class EnvironmentSet:\n",
    "    def __init__(self, env_id, n):\n",
    "        self.env_id = env_id\n",
    "        self.n = n\n",
    "        self.envs = [gym.make(env_id) for _ in range(n)]\n",
    "        \n",
    "    def __enter__(self):\n",
    "        return self\n",
    "\n",
    "    def __exit__(self, *args):\n",
    "        self.close()\n",
    "\n",
    "    def reset(self):\n",
    "        states = []\n",
    "        for env in self.envs:\n",
    "            states.append(env.reset())\n",
    "        return np.stack(states)\n",
    "\n",
    "    def desync(self, step):\n",
    "        states = []\n",
    "        for i, env in enumerate(self.envs):\n",
    "            state = env.reset()\n",
    "            for s in range(i*step):\n",
    "                state, reward, done, _ = env.step(env.action_space.sample())\n",
    "                if done:\n",
    "                    env.reset()\n",
    "            states.append(state)\n",
    "        return np.stack(states)\n",
    "\n",
    "    def step(self, actions):\n",
    "        results = []\n",
    "        for env, a in zip(self.envs, actions):\n",
    "            state, reward, done, info = env.step(a)\n",
    "            if done:\n",
    "                state = env.reset()\n",
    "            results.append((state, reward, done, info))\n",
    "\n",
    "        obs, rews, dones, infos = zip(*results)\n",
    "        return np.stack(obs), np.stack(rews), np.stack(dones), infos\n",
    "\n",
    "    def close(self):\n",
    "        for env in self.envs:\n",
    "            env.close()"
   ]
  },
  {
   "cell_type": "markdown",
   "id": "f41079c5-7918-4694-b034-2b43adc9bac4",
   "metadata": {},
   "source": [
    "## Actor-Critic neural networks\n",
    "The critic predicts the value of a state, thus it does not have a cropping activation function in the last layer.\n",
    "\n",
    "The actor predicts the mean of the actions. Because the action space takes values in $[-1, 1]$ I used the Hyperbolic tangens activation function.\n",
    "\n",
    "The actor should predict the standard deviation as well, but when I put both mean and std to the same network, it was very unstable. Some implementations I found used a static std or a single-trainable parameter (per action) std. I settled on a compromise - a single layer network (linear transformation of the current state)."
   ]
  },
  {
   "cell_type": "code",
   "execution_count": 3,
   "id": "99f9dcc4-0a95-48ff-8ab5-02beddb0c69b",
   "metadata": {},
   "outputs": [],
   "source": [
    "import torch\n",
    "import torch.nn as nn\n",
    "from torch.distributions import Normal\n",
    "\n",
    "class ActorCritic(nn.Module):\n",
    "    def __init__(self, num_inputs, num_outputs, hidden_size, std=0.0):\n",
    "        super(ActorCritic, self).__init__()\n",
    "        \n",
    "        self.critic = nn.Sequential(\n",
    "            nn.Linear(num_inputs, hidden_size),\n",
    "            nn.ReLU(),\n",
    "            nn.Linear(hidden_size, 1)\n",
    "        )\n",
    "        \n",
    "        self.actor = nn.Sequential(\n",
    "            nn.Linear(num_inputs, hidden_size),\n",
    "            nn.ReLU(),\n",
    "            nn.Linear(hidden_size, num_outputs),\n",
    "            nn.Tanh(),\n",
    "        )\n",
    "        \n",
    "        self.log_std = nn.Sequential(\n",
    "            # nn.Linear(num_inputs, 32),\n",
    "            # nn.Sigmoid(),\n",
    "            # nn.Linear(32, num_outputs),\n",
    "            nn.Linear(num_inputs, num_outputs),\n",
    "        )\n",
    "        \n",
    "    def forward(self, state):\n",
    "        value = self.critic(state)\n",
    "        mu    = self.actor(state)\n",
    "        std   = self.log_std(state).exp()\n",
    "        dist  = Normal(mu, std)\n",
    "        return dist, value"
   ]
  },
  {
   "cell_type": "markdown",
   "id": "6a39d622-7d5c-4132-8832-51077a0ee9cb",
   "metadata": {},
   "source": [
    "## Configuration\n",
    "I experimented with different configurations.\n",
    "\n",
    "With the current setting, the PPO learns from 256 \\* 8 environment steps each learning step. To update the weights in each learning step, it does 10 (epochs) \\* 4 batches of 64 learning examples. \n",
    "\n",
    "Each 10 learning steps, the model is evaluated on 10 full episodes. (the test reward)\n",
    "\n",
    "`GAMMA` is set to 1, because we are interested in the total cumulative reward.\n",
    "\n",
    "--- \n",
    "\n",
    "At one point it seemed that the entropy was getting too small too quickly and the agent got stuck with sub-optimal policies. I tried to encurage more exploration by increasing the `ENTROPY_BETA` constant and thus penalizing the agent for small variance in the loss function, but it did not help. It turned out that It was caused by not reseting the environments properly and thus receiving zero rewards after the first episode. The PPO correctly found out that the reward is always zero and thus it could settle with low variance."
   ]
  },
  {
   "cell_type": "code",
   "execution_count": 4,
   "id": "b30aa85d-fbcd-4877-b99f-0a672d9708a4",
   "metadata": {},
   "outputs": [],
   "source": [
    "NUM_ENVS            = 8\n",
    "ENV_ID              = \"Swimmer-v3\"\n",
    "HIDDEN_SIZE         = 256\n",
    "LEARNING_RATE       = 1e-4\n",
    "GAMMA               = 1.0\n",
    "GAE_LAMBDA          = 0.95\n",
    "PPO_EPSILON         = 0.2\n",
    "CRITIC_DISCOUNT     = 0.5\n",
    "ENTROPY_BETA        = 0.001\n",
    "PPO_STEPS           = 256\n",
    "MINI_BATCH_SIZE     = 64\n",
    "PPO_EPOCHS          = 10\n",
    "TEST_EPOCHS         = 10\n",
    "NUM_TESTS           = 10\n",
    "TARGET_REWARD       = 400"
   ]
  },
  {
   "cell_type": "markdown",
   "id": "ba98f66b-acd4-472d-b3ea-0186348692c3",
   "metadata": {},
   "source": [
    "## PPO Functions"
   ]
  },
  {
   "cell_type": "code",
   "execution_count": 5,
   "id": "11441eca-fb1c-487c-bd01-242abc293747",
   "metadata": {},
   "outputs": [],
   "source": [
    "def test_env(env, model, device, deterministic=True):\n",
    "    state = env.reset()\n",
    "    done = False\n",
    "    total_reward = 0\n",
    "    while not done:\n",
    "        state = torch.FloatTensor(state).unsqueeze(0).to(device)\n",
    "        dist, _ = model(state)\n",
    "        action = dist.mean.detach().cpu().numpy()[0] if deterministic \\\n",
    "            else dist.sample().cpu().numpy()[0]\n",
    "        next_state, reward, done, _ = env.step(action)\n",
    "        state = next_state\n",
    "        total_reward += reward\n",
    "    return total_reward\n",
    "\n",
    "\n",
    "def normalize(x):\n",
    "    x -= x.mean()\n",
    "    x /= (x.std() + 1e-8)\n",
    "    return x\n",
    "\n",
    "\n",
    "def compute_gae(next_value, rewards, masks, values, gamma=GAMMA, lam=GAE_LAMBDA):\n",
    "    values = values + [next_value]\n",
    "    gae = 0\n",
    "    returns = []\n",
    "    for step in reversed(range(len(rewards))):\n",
    "        delta = rewards[step] + gamma * values[step + 1] * masks[step] - values[step]\n",
    "        gae = delta + gamma * lam * masks[step] * gae\n",
    "        # prepend to get correct order back\n",
    "        returns.insert(0, gae + values[step])\n",
    "    return returns\n",
    "\n",
    "\n",
    "def ppo_iter(states, actions, log_probs, returns, advantage):\n",
    "    batch_size = states.size(0)\n",
    "    # generates random mini-batches until we have covered the full batch\n",
    "    for _ in range(batch_size // MINI_BATCH_SIZE):\n",
    "        rand_ids = np.random.randint(0, batch_size, MINI_BATCH_SIZE)\n",
    "        yield states[rand_ids, :], actions[rand_ids, :], log_probs[rand_ids, :], returns[rand_ids, :], advantage[rand_ids, :]\n",
    "        \n",
    "\n",
    "def ppo_update(frame_idx, states, actions, log_probs, returns, advantages, clip_param=PPO_EPSILON):\n",
    "    count_steps = 0\n",
    "    sum_returns = 0.0\n",
    "    sum_advantage = 0.0\n",
    "    sum_loss_actor = 0.0\n",
    "    sum_loss_critic = 0.0\n",
    "    sum_entropy = 0.0\n",
    "    sum_loss_total = 0.0\n",
    "\n",
    "    # PPO EPOCHS is the number of times we will go through ALL the training data to make updates\n",
    "    for _ in range(PPO_EPOCHS):\n",
    "        # grabs random mini-batches several times until we have covered all data\n",
    "        for state, action, old_log_probs, return_, advantage in ppo_iter(states, actions, log_probs, returns, advantages):\n",
    "            dist, value = model(state)\n",
    "            entropy = dist.entropy().mean()\n",
    "            new_log_probs = dist.log_prob(action)\n",
    "\n",
    "            ratio = (new_log_probs - old_log_probs).exp()\n",
    "            surr1 = ratio * advantage\n",
    "            surr2 = torch.clamp(ratio, 1.0 - clip_param, 1.0 + clip_param) * advantage\n",
    "\n",
    "            actor_loss  = - torch.min(surr1, surr2).mean()\n",
    "            critic_loss = (return_ - value).pow(2).mean()\n",
    "\n",
    "            loss = CRITIC_DISCOUNT * critic_loss + actor_loss - ENTROPY_BETA * entropy\n",
    "\n",
    "            optimizer.zero_grad()\n",
    "            loss.backward()\n",
    "            optimizer.step()\n",
    "\n",
    "            # track statistics\n",
    "            sum_returns += return_.mean()\n",
    "            sum_advantage += advantage.mean()\n",
    "            sum_loss_actor += actor_loss\n",
    "            sum_loss_critic += critic_loss\n",
    "            sum_loss_total += loss\n",
    "            sum_entropy += entropy\n",
    "            \n",
    "            count_steps += 1\n",
    "    \n",
    "    writer.add_scalar(\"returns\", sum_returns / count_steps, frame_idx)\n",
    "    writer.add_scalar(\"advantage\", sum_advantage / count_steps, frame_idx)\n",
    "    writer.add_scalar(\"loss_actor\", sum_loss_actor / count_steps, frame_idx)\n",
    "    writer.add_scalar(\"loss_critic\", sum_loss_critic / count_steps, frame_idx)\n",
    "    writer.add_scalar(\"entropy\", sum_entropy / count_steps, frame_idx)\n",
    "    writer.add_scalar(\"loss_total\", sum_loss_total / count_steps, frame_idx)"
   ]
  },
  {
   "cell_type": "markdown",
   "id": "759d87a8-2b21-45d1-b083-0b4880e1687f",
   "metadata": {},
   "source": [
    "## Utility"
   ]
  },
  {
   "cell_type": "code",
   "execution_count": 14,
   "id": "e9426e8c-39fe-4115-bc52-fa266c5b253f",
   "metadata": {},
   "outputs": [],
   "source": [
    "def plot(frame_idx, rewards):\n",
    "    clear_output(True)\n",
    "    plt.figure(figsize=(10,5))\n",
    "    plt.title('Test Rewards\\nframe %s. reward: %s' % (frame_idx, np.mean(rewards[-10:])))\n",
    "    plt.plot(rewards)\n",
    "    plt.show()\n",
    "    \n",
    "def mkdir(base, name):\n",
    "    path = os.path.join(base, name)\n",
    "    if not os.path.exists(path):\n",
    "        os.makedirs(path)\n",
    "    return path"
   ]
  },
  {
   "cell_type": "markdown",
   "id": "cd2a9bbe-38b7-4968-8e4b-130ccaeccfe8",
   "metadata": {
    "tags": []
   },
   "source": [
    "## Main loop\n",
    "The first cell sets up the training process. The second cell can be executed multiple times to perform additional training."
   ]
  },
  {
   "cell_type": "code",
   "execution_count": 11,
   "id": "e9fe5afc-b395-4536-bb14-b3c809450f54",
   "metadata": {},
   "outputs": [
    {
     "name": "stdout",
     "output_type": "stream",
     "text": [
      "Device: cpu\n",
      "ActorCritic(\n",
      "  (critic): Sequential(\n",
      "    (0): Linear(in_features=8, out_features=256, bias=True)\n",
      "    (1): ReLU()\n",
      "    (2): Linear(in_features=256, out_features=1, bias=True)\n",
      "  )\n",
      "  (actor): Sequential(\n",
      "    (0): Linear(in_features=8, out_features=256, bias=True)\n",
      "    (1): ReLU()\n",
      "    (2): Linear(in_features=256, out_features=2, bias=True)\n",
      "    (3): Tanh()\n",
      "  )\n",
      "  (log_std): Sequential(\n",
      "    (0): Linear(in_features=8, out_features=2, bias=True)\n",
      "  )\n",
      ")\n"
     ]
    }
   ],
   "source": [
    "mkdir('.', 'checkpoints')\n",
    "experiment_name = ENV_ID\n",
    "writer = SummaryWriter(comment=\"ppo_\" + experiment_name)\n",
    "\n",
    "# Autodetect CUDA\n",
    "use_cuda = torch.cuda.is_available()\n",
    "device   = torch.device(\"cuda\" if use_cuda else \"cpu\")\n",
    "print('Device:', device)\n",
    "\n",
    "# Prepare environments\n",
    "envs = EnvironmentSet(ENV_ID, NUM_ENVS)\n",
    "env = gym.make(ENV_ID)\n",
    "num_inputs  = env.observation_space.shape[0]\n",
    "num_outputs = env.action_space.shape[0]\n",
    "\n",
    "model = ActorCritic(num_inputs, num_outputs, HIDDEN_SIZE).to(device)\n",
    "print(model)\n",
    "optimizer = optim.Adam(model.parameters(), lr=LEARNING_RATE)\n",
    "\n",
    "\n",
    "frame_idx  = 0\n",
    "train_epoch = 0\n",
    "best_reward = None\n",
    "# state = envs.desync(200)\n",
    "state = envs.reset()\n",
    "early_stop = False\n",
    "test_rewards = []"
   ]
  },
  {
   "cell_type": "code",
   "execution_count": 15,
   "id": "e22d5a81-da59-40f2-9056-ee0e7791be0e",
   "metadata": {},
   "outputs": [
    {
     "data": {
      "image/png": "[encoded data removed]",
      "text/plain": [
       "<Figure size 720x360 with 1 Axes>"
      ]
     },
     "metadata": {
      "needs_background": "light"
     },
     "output_type": "display_data"
    },
    {
     "name": "stdout",
     "output_type": "stream",
     "text": [
      "Frame 517120. reward: 322\n"
     ]
    }
   ],
   "source": [
    "for _ in range(1000):\n",
    "    log_probs = []\n",
    "    values    = []\n",
    "    states    = []\n",
    "    actions   = []\n",
    "    rewards   = []\n",
    "    masks     = []\n",
    "\n",
    "    for _ in range(PPO_STEPS):\n",
    "        state = torch.FloatTensor(state).to(device)\n",
    "        dist, value = model(state)\n",
    "\n",
    "        action = dist.sample()\n",
    "        # each state, reward, done is a list of results from each parallel environment\n",
    "        next_state, reward, done, _ = envs.step(action.cpu().numpy())\n",
    "        log_prob = dist.log_prob(action)\n",
    "\n",
    "        log_probs.append(log_prob)\n",
    "        values.append(value)\n",
    "        rewards.append(torch.FloatTensor(reward).unsqueeze(1).to(device))\n",
    "        masks.append(torch.FloatTensor(1 - done).unsqueeze(1).to(device))\n",
    "\n",
    "        states.append(state)\n",
    "        actions.append(action)\n",
    "\n",
    "        state = next_state\n",
    "        frame_idx += 1\n",
    "        \n",
    "\n",
    "    next_state = torch.FloatTensor(next_state).to(device)\n",
    "    _, next_value = model(next_state)\n",
    "    returns = compute_gae(next_value, rewards, masks, values)\n",
    "\n",
    "    returns   = torch.cat(returns).detach()\n",
    "    log_probs = torch.cat(log_probs).detach()\n",
    "    values    = torch.cat(values).detach()\n",
    "    states    = torch.cat(states)\n",
    "    actions   = torch.cat(actions)\n",
    "    advantage = returns - values\n",
    "    advantage = normalize(advantage)\n",
    "\n",
    "    ppo_update(frame_idx, states, actions, log_probs, returns, advantage)\n",
    "    train_epoch += 1\n",
    "\n",
    "    if train_epoch % TEST_EPOCHS == 0:\n",
    "        test_reward = np.mean([test_env(env, model, device) for _ in range(NUM_TESTS)])\n",
    "        writer.add_scalar(\"test_rewards\", test_reward, frame_idx)\n",
    "        test_rewards.append(test_reward)\n",
    "        plot(frame_idx, test_rewards)\n",
    "        print('Frame %s. reward: %.3s' % (frame_idx, test_reward))\n",
    "        # Save a checkpoint every time we achieve a best reward\n",
    "        if best_reward is None or best_reward < test_reward:\n",
    "            if best_reward is not None:\n",
    "                print(\"Best reward updated: %.3f -> %.3f\" % (best_reward, test_reward))\n",
    "                name = \"%s_best_%+.3f_%d.dat\" % (experiment_name, test_reward, frame_idx)\n",
    "                fname = os.path.join('.', 'checkpoints', name)\n",
    "                torch.save(model.state_dict(), fname)\n",
    "            best_reward = test_reward\n",
    "        if test_reward > TARGET_REWARD: early_stop = True"
   ]
  },
  {
   "cell_type": "markdown",
   "id": "68cf5880-68dd-445b-81df-7f3ce661cc66",
   "metadata": {},
   "source": [
    "## Testing "
   ]
  },
  {
   "cell_type": "code",
   "execution_count": 22,
   "id": "14599d63-1938-4c0d-b9da-582bdfb536ef",
   "metadata": {},
   "outputs": [
    {
     "data": {
      "text/plain": [
       "<All keys matched successfully>"
      ]
     },
     "execution_count": 22,
     "metadata": {},
     "output_type": "execute_result"
    }
   ],
   "source": [
    "ENV_ID = \"Swimmer-v3\"\n",
    "HIDDEN_SIZE = 256\n",
    "\n",
    "model_name = \"best_checkpoints/training1_Swimmer-v3_best_+298.652_332800.dat\"\n",
    "model_name = \"best_checkpoints/training2_Swimmer-v3_best_+265.759_227840.dat\"\n",
    "model_name = \"best_checkpoints/training3_Swimmer-v3_best_+333.809_140800.dat\"\n",
    "\n",
    "env = gym.make(ENV_ID)\n",
    "num_inputs  = env.observation_space.shape[0]\n",
    "num_outputs = env.action_space.shape[0]\n",
    "\n",
    "use_cuda = torch.cuda.is_available()\n",
    "device   = torch.device(\"cuda\" if use_cuda else \"cpu\")\n",
    "\n",
    "model = ActorCritic(num_inputs, num_outputs, HIDDEN_SIZE).to(device)\n",
    "model.load_state_dict(torch.load(model_name))"
   ]
  },
  {
   "cell_type": "code",
   "execution_count": 23,
   "id": "1ce805a0-2563-4e09-ae9b-87ac81c07165",
   "metadata": {},
   "outputs": [
    {
     "name": "stdout",
     "output_type": "stream",
     "text": [
      "Creating window glfw\n",
      "total_reward=345.737\n",
      "total_reward=332.818\n",
      "total_reward=332.808\n"
     ]
    }
   ],
   "source": [
    "def test_env(env, model, device, deterministic=True):\n",
    "    state = env.reset()\n",
    "    done = False\n",
    "    total_reward = 0\n",
    "    while not done:\n",
    "        state = torch.FloatTensor(state).unsqueeze(0).to(device)\n",
    "        dist, _ = model(state)\n",
    "        action = dist.mean.detach().cpu().numpy()[0] if deterministic \\\n",
    "            else dist.sample().cpu().numpy()[0]\n",
    "        next_state, reward, done, _ = env.step(action)\n",
    "        state = next_state\n",
    "        total_reward += reward\n",
    "        print(f\"{total_reward=:6.3f}\", end=\"\\r\")\n",
    "        env.render()\n",
    "    print()\n",
    "    return total_reward\n",
    "\n",
    "for i in range(3):\n",
    "    test_env(env, model, device, True)"
   ]
  },
  {
   "cell_type": "markdown",
   "id": "a8f2ea00-969a-49cb-a4bf-a07d336839a1",
   "metadata": {},
   "source": [
    "## Results\n",
    "More detailed tensorboard training statistics from some of the runs are are in the `selected_runs` folder.\n",
    "\n",
    "The algorithm is consistently able to achieve total reward around 300, which is more than twice as much as in the [openai spinup bencmark](https://spinningup.openai.com/en/latest/spinningup/bench.html#swimmer-pytorch-versions).\n",
    "\n",
    "The last training (graph shown) took 45 minutes on a AMD Ryzen 7 4700U laptop (8 cores, 2 - 4.1 GHz). In total the algorithm learnt from approx. 4 milion environment steps (4000 episodes).\n",
    "\n",
    "First time it crossed the 90 reward threashold (better then just \"jump\") was after 532 episodes."
   ]
  },
  {
   "cell_type": "markdown",
   "id": "08cdab91-04b0-4fa2-96c1-b9729a2e3f46",
   "metadata": {},
   "source": [
    "### Learnt behavior"
   ]
  },
  {
   "cell_type": "code",
   "execution_count": 21,
   "id": "8107caf6-722d-47bd-b0e6-efc2301c3b67",
   "metadata": {},
   "outputs": [
    {
     "data": {
      "text/html": [
       "<video src=\"swimmer.mp4\" controls  >\n",
       "      Your browser does not support the <code>video</code> element.\n",
       "    </video>"
      ],
      "text/plain": [
       "<IPython.core.display.Video object>"
      ]
     },
     "execution_count": 21,
     "metadata": {},
     "output_type": "execute_result"
    }
   ],
   "source": [
    "Video(\"swimmer.mp4\")"
   ]
  },
  {
   "cell_type": "markdown",
   "id": "9f994dc8-d18b-4f8e-93d6-9d54e77cc12e",
   "metadata": {},
   "source": [
    "### Interesting observations\n",
    "* The agent can learn the initial \"jump\" motion realy fast\n",
    "* It takes much longer time to start learning a behavior that leads to a continuous motion.\n",
    "* The time when the agent discoveres the continuous behavior varies a lot in different trainigs\n",
    "* During the training sometimes the agent seems to forget everything (like in the step ~120 in the Test rewards graph)\n",
    "    * but then it gets quickly back to a good reward, so it still remembers something\n",
    "\n",
    "\n",
    "  "
   ]
  }
 ],
 "metadata": {
  "kernelspec": {
   "display_name": "Python 3 (ipykernel)",
   "language": "python",
   "name": "python3"
  },
  "language_info": {
   "codemirror_mode": {
    "name": "ipython",
    "version": 3
   },
   "file_extension": ".py",
   "mimetype": "text/x-python",
   "name": "python",
   "nbconvert_exporter": "python",
   "pygments_lexer": "ipython3",
   "version": "3.10.4"
  }
 },
 "nbformat": 4,
 "nbformat_minor": 5
}
